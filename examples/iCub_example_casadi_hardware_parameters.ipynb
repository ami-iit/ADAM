{
 "cells": [
  {
   "cell_type": "code",
   "execution_count": null,
   "metadata": {},
   "outputs": [],
   "source": [
    "from adam.casadi.computations import KinDynComputations\n",
    "from adam.core import link_parametric\n",
    "from adam.geometry import utils\n",
    "import numpy as np\n",
    "import casadi as cs"
   ]
  },
  {
   "cell_type": "code",
   "execution_count": null,
   "metadata": {},
   "outputs": [],
   "source": [
    "def SX2DM(sx):\n",
    "    return cs.DM(sx)"
   ]
  },
  {
   "cell_type": "markdown",
   "metadata": {},
   "source": [
    "## Import the robot .urdf\n"
   ]
  },
  {
   "cell_type": "code",
   "execution_count": null,
   "metadata": {},
   "outputs": [],
   "source": [
    "urdf_path = \"/home/carlotta/iit_ws/ergocub-gazebo-simulations/models/stickBot/model.urdf\"\n",
    "# The joint list\n",
    "joints_name_list = [\n",
    "    'torso_pitch', 'torso_roll', 'torso_yaw', 'l_shoulder_pitch',\n",
    "    'l_shoulder_roll', 'l_shoulder_yaw', 'l_elbow', 'r_shoulder_pitch',\n",
    "    'r_shoulder_roll', 'r_shoulder_yaw', 'r_elbow', 'l_hip_pitch', 'l_hip_roll',\n",
    "    'l_hip_yaw', 'l_knee', 'l_ankle_pitch', 'l_ankle_roll', 'r_hip_pitch',\n",
    "    'r_hip_roll', 'r_hip_yaw', 'r_knee', 'r_ankle_pitch', 'r_ankle_roll'\n",
    "]\n",
    "# Specify the root link\n",
    "root_link = 'root_link'\n",
    "link_name_list = ['l_lower_leg']\n",
    "link_name_list_empty  = []\n",
    "r_hip_r_char = link_parametric.LinkCharacteristics(-0.03)\n",
    "r_hip_yaw_char = link_parametric.JointCharacteristics(-0.055989)\n",
    "link_characteristics = {link_name_list[0]: r_hip_r_char}\n",
    "joint_characteristics = {'l_ankle_pitch': r_hip_yaw_char}\n",
    "kinDyn = KinDynComputations(urdf_path, joints_name_list, root_link, link_name_list, link_characteristics, joint_characteristics)\n"
   ]
  },
  {
   "cell_type": "code",
   "execution_count": null,
   "metadata": {},
   "outputs": [],
   "source": [
    "# Set joints and base informations\n",
    "xyz = (np.random.rand(3) - 0.5) * 5\n",
    "rpy = (np.random.rand(3) - 0.5) * 5\n",
    "H_b = utils.H_from_Pos_RPY(xyz, rpy)\n",
    "v_b = (np.random.rand(6) - 0.5) * 5\n",
    "s = (np.random.rand(len(joints_name_list)) - 0.5) * 5\n",
    "s_dot = (np.random.rand(len(joints_name_list)) - 0.5) * 5\n",
    "density = np.random.rand(len(link_name_list))\n",
    "lenght_multiplier = np.random.rand(len(link_name_list))"
   ]
  },
  {
   "cell_type": "markdown",
   "metadata": {},
   "source": [
    "## Mass Matrix "
   ]
  },
  {
   "cell_type": "code",
   "execution_count": null,
   "metadata": {},
   "outputs": [],
   "source": [
    "M = kinDyn.mass_matrix_fun()\n",
    "print('Mass matrix:\\n', SX2DM(M(H_b, s, density, lenght_multiplier)))"
   ]
  },
  {
   "cell_type": "markdown",
   "metadata": {},
   "source": [
    "## Centroidal Momentum Matrix "
   ]
  },
  {
   "cell_type": "code",
   "execution_count": null,
   "metadata": {},
   "outputs": [],
   "source": [
    "Jcm = kinDyn.centroidal_momentum_matrix_fun()\n",
    "print('Centroidal Momentum Matrix:\\n', SX2DM(Jcm(H_b, s, density, lenght_multiplier)))"
   ]
  },
  {
   "cell_type": "markdown",
   "metadata": {},
   "source": [
    "## Center of mass position"
   ]
  },
  {
   "cell_type": "code",
   "execution_count": null,
   "metadata": {},
   "outputs": [],
   "source": [
    "CoM = kinDyn.CoM_position_fun()\n",
    "print('Center of Mass position:\\n', SX2DM(CoM(H_b, s, density, lenght_multiplier)))"
   ]
  },
  {
   "cell_type": "markdown",
   "metadata": {},
   "source": [
    "## Total Mass"
   ]
  },
  {
   "cell_type": "code",
   "execution_count": null,
   "metadata": {},
   "outputs": [],
   "source": [
    "total_mass = kinDyn.get_total_mass()\n",
    "print('Total mass:\\n', SX2DM(total_mass(density, lenght_multiplier)))"
   ]
  },
  {
   "cell_type": "markdown",
   "metadata": {},
   "source": [
    "## Jacobian "
   ]
  },
  {
   "cell_type": "code",
   "execution_count": null,
   "metadata": {},
   "outputs": [],
   "source": [
    "J = kinDyn.jacobian_fun('l_sole')\n",
    "print('Jacobian of the left sole:\\n', SX2DM(J(H_b, s, density, lenght_multiplier)))"
   ]
  },
  {
   "cell_type": "markdown",
   "metadata": {},
   "source": [
    "## Relative jacobian "
   ]
  },
  {
   "cell_type": "code",
   "execution_count": null,
   "metadata": {},
   "outputs": [],
   "source": [
    "J_r = kinDyn.relative_jacobian_fun('l_sole')\n",
    "print('Jacobian between the root link and left sole:\\n', SX2DM(J_r(s, density, lenght_multiplier)))"
   ]
  },
  {
   "cell_type": "markdown",
   "metadata": {},
   "source": [
    "## Forward kinematics "
   ]
  },
  {
   "cell_type": "code",
   "execution_count": null,
   "metadata": {},
   "outputs": [],
   "source": [
    "H = kinDyn.forward_kinematics_fun('l_sole')\n",
    "print('Forward kinematics to the left sole:\\n', SX2DM(H(H_b, s, density, lenght_multiplier)))"
   ]
  },
  {
   "cell_type": "markdown",
   "metadata": {},
   "source": [
    "## Bias force term "
   ]
  },
  {
   "cell_type": "code",
   "execution_count": null,
   "metadata": {},
   "outputs": [],
   "source": [
    "h = kinDyn.bias_force_fun()\n",
    "print('Bias force term:\\n', SX2DM(h(H_b, s, v_b, s_dot, density, lenght_multiplier)))"
   ]
  },
  {
   "cell_type": "markdown",
   "metadata": {},
   "source": [
    "## Coriolis term"
   ]
  },
  {
   "cell_type": "code",
   "execution_count": null,
   "metadata": {},
   "outputs": [],
   "source": [
    "C = kinDyn.coriolis_term_fun()\n",
    "print('Coriolis force term:\\n', SX2DM(C(H_b, s, v_b, s_dot, density, lenght_multiplier)))"
   ]
  },
  {
   "cell_type": "markdown",
   "metadata": {},
   "source": [
    "## Gravity term "
   ]
  },
  {
   "cell_type": "code",
   "execution_count": null,
   "metadata": {},
   "outputs": [],
   "source": [
    "G = kinDyn.gravity_term_fun()\n",
    "print('Gravity term:\\n', SX2DM(G(H_b, s, density, lenght_multiplier)))"
   ]
  }
 ],
 "metadata": {
  "interpreter": {
   "hash": "9738ffd4f648b8515e60f32f19b4e3c7f917d386448accb8264ce010e80f3fb8"
  },
  "kernelspec": {
   "display_name": "Python 3.8.10 64-bit ('env': venv)",
   "language": "python",
   "name": "python3"
  },
  "language_info": {
   "codemirror_mode": {
    "name": "ipython",
    "version": 3
   },
   "file_extension": ".py",
   "mimetype": "text/x-python",
   "name": "python",
   "nbconvert_exporter": "python",
   "pygments_lexer": "ipython3",
   "version": "3.8.10"
  },
  "orig_nbformat": 4
 },
 "nbformat": 4,
 "nbformat_minor": 2
}
